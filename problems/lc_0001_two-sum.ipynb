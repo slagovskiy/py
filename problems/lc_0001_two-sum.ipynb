{
 "cells": [
  {
   "metadata": {},
   "cell_type": "markdown",
   "source": [
    "Даны массив целочисленных значений nums и целое число target, верните индексы двух таких чисел, которые в сумме равны target.\n",
    "\n",
    "Гарантируется, что каждый ввод имеет ровно одно решение. Также учтите, что вы не можете использовать одно и то же число дважды.\n",
    "\n",
    "Вы можете вернуть ответ в любом порядке.\n",
    "\n",
    "\n",
    "\n",
    "Пример 1:\n",
    "```\n",
    "Ввод: nums = [2,7,11,15], target = 9\n",
    "Вывод: [0,1]\n",
    "Пояснение: Так как nums[0] + nums[1] == 9, мы возвращаем [0, 1].\n",
    "Пример 2:\n",
    "\n",
    "Ввод: nums = [3,2,4], target = 6\n",
    "Вывод: [1,2]\n",
    "Пример 3:\n",
    "\n",
    "Ввод: nums = [3,3], target = 6\n",
    "Вывод: [0,1]\n",
    "```\n",
    "\n",
    "Ограничения:\n",
    "\n",
    "* 2 <= nums.length <= 104\n",
    "* -109 <= nums[i] <= 109\n",
    "* -109 <= target <= 109\n",
    "* Существует только один правильный ответ."
   ],
   "id": "a4a408689b42a86a"
  },
  {
   "metadata": {
    "ExecuteTime": {
     "end_time": "2024-12-27T13:30:09.688015Z",
     "start_time": "2024-12-27T13:30:09.674290Z"
    }
   },
   "cell_type": "code",
   "source": [
    "from typing import List\n",
    "\n",
    "class Solution:\n",
    "    def twoSum(self, nums: List[int], target: int) -> List[int]:\n",
    "        hm = {}\n",
    "        for idx, num in enumerate(nums):\n",
    "            if target - num in hm:\n",
    "                return [hm[target - num], idx]\n",
    "            else:\n",
    "                hm[num] = idx"
   ],
   "id": "d3890bf79f330d03",
   "outputs": [],
   "execution_count": 14
  },
  {
   "metadata": {
    "ExecuteTime": {
     "end_time": "2024-12-27T13:35:44.675628Z",
     "start_time": "2024-12-27T13:35:44.662882Z"
    }
   },
   "cell_type": "code",
   "source": [
    "import unittest\n",
    "\n",
    "class TestSol(unittest.TestCase):\n",
    "    sol = Solution()\n",
    "    def test_1(self):\n",
    "        self.assertEqual(self.sol.twoSum([2,7,11,15], 9), [0, 1])\n",
    "\n",
    "    def test_2(self):\n",
    "        self.assertEqual(self.sol.twoSum([3,2,4], 6), [1, 2])\n",
    "\n",
    "    def test_3(self):\n",
    "        self.assertEqual(self.sol.twoSum([3,3], 6), [0, 1])"
   ],
   "id": "dd1a49d3fd63dc91",
   "outputs": [],
   "execution_count": 17
  },
  {
   "metadata": {
    "ExecuteTime": {
     "end_time": "2024-12-27T13:35:45.461268Z",
     "start_time": "2024-12-27T13:35:45.448278Z"
    }
   },
   "cell_type": "code",
   "source": [
    "runner = unittest.TextTestRunner(verbosity=2)\n",
    "suite = unittest.TestLoader().loadTestsFromTestCase(TestSol)\n",
    "runner.run(suite)"
   ],
   "id": "33382e554525a590",
   "outputs": [
    {
     "name": "stderr",
     "output_type": "stream",
     "text": [
      "test_1 (__main__.TestSol) ... ok\n",
      "test_2 (__main__.TestSol) ... ok\n",
      "test_3 (__main__.TestSol) ... ok\n",
      "\n",
      "----------------------------------------------------------------------\n",
      "Ran 3 tests in 0.004s\n",
      "\n",
      "OK\n"
     ]
    },
    {
     "data": {
      "text/plain": [
       "<unittest.runner.TextTestResult run=3 errors=0 failures=0>"
      ]
     },
     "execution_count": 18,
     "metadata": {},
     "output_type": "execute_result"
    }
   ],
   "execution_count": 18
  },
  {
   "metadata": {},
   "cell_type": "code",
   "outputs": [],
   "execution_count": null,
   "source": "",
   "id": "3adea726687ff961"
  }
 ],
 "metadata": {
  "kernelspec": {
   "display_name": "Python 3",
   "language": "python",
   "name": "python3"
  },
  "language_info": {
   "codemirror_mode": {
    "name": "ipython",
    "version": 2
   },
   "file_extension": ".py",
   "mimetype": "text/x-python",
   "name": "python",
   "nbconvert_exporter": "python",
   "pygments_lexer": "ipython2",
   "version": "2.7.6"
  }
 },
 "nbformat": 4,
 "nbformat_minor": 5
}

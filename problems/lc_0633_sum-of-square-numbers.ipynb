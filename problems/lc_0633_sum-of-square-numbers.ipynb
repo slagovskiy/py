{
 "nbformat": 4,
 "nbformat_minor": 0,
 "metadata": {
  "colab": {
   "provenance": [],
   "authorship_tag": "ABX9TyMRkLQBCrxq+Xlik/SjKCb4",
   "include_colab_link": true
  },
  "kernelspec": {
   "name": "python3",
   "display_name": "Python 3 (ipykernel)",
   "language": "python"
  },
  "language_info": {
   "name": "python"
  }
 },
 "cells": [
  {
   "cell_type": "markdown",
   "source": [
    "Учитывая целое неотрицательное число c, решите, существуют ли два целых числа a и b такие, что $a^2 + b^2 = c$.\n",
    "\n",
    "```\n",
    "Example 1:\n",
    "\n",
    "Input: c = 5\n",
    "Output: true\n",
    "Explanation: 1 * 1 + 2 * 2 = 5\n",
    "\n",
    "Example 2:\n",
    "\n",
    "Input: c = 3\n",
    "Output: false\n",
    "```\n",
    "\n",
    "Constraints:\n",
    "\n",
    "$0 <= c <= 2^{31}-1$"
   ],
   "metadata": {
    "id": "NaNoy9YqNFbJ"
   }
  },
  {
   "cell_type": "markdown",
   "source": [
    "если $a^2 + b^2 = c$\n",
    "\n",
    "то $b = \\sqrt{c - b^2}$\n",
    "\n",
    "следовательно $a <= \\sqrt{c}$"
   ],
   "metadata": {
    "id": "D133d7XSa9WB"
   }
  },
  {
   "cell_type": "code",
   "source": [
    "from math import sqrt\n",
    "\n",
    "class Solution:\n",
    "    def judgeSquareSum(self, c: int) -> bool:\n",
    "        for a in range(1, int(sqrt(c)) + 1):\n",
    "            b = sqrt(c - a * a)\n",
    "            # print(f'{a}^2 + {int(b)}^2 = {c}')\n",
    "            if b == 0:\n",
    "                return False\n",
    "            if b == int(b):\n",
    "                return True\n",
    "        return False"
   ],
   "metadata": {
    "id": "fiqhb4dxPgIy",
    "ExecuteTime": {
     "end_time": "2024-12-27T13:20:11.482298Z",
     "start_time": "2024-12-27T13:20:11.468617Z"
    }
   },
   "outputs": [],
   "execution_count": 20
  },
  {
   "cell_type": "code",
   "source": [
    "import unittest\n",
    "\n",
    "class TestSol(unittest.TestCase):\n",
    "    sol = Solution()\n",
    "    def test_1(self):\n",
    "        self.assertTrue(self.sol.judgeSquareSum(18), 'Should be True')\n",
    "\n",
    "    def test_2(self):\n",
    "        self.assertFalse(self.sol.judgeSquareSum(9), 'Should be False')\n",
    "\n",
    "    def test_3(self):\n",
    "        self.assertTrue(self.sol.judgeSquareSum(2147483650), 'Should be True')"
   ],
   "metadata": {
    "id": "2PqIxgoPb_IF",
    "ExecuteTime": {
     "end_time": "2024-12-27T13:20:11.900731Z",
     "start_time": "2024-12-27T13:20:11.886943Z"
    }
   },
   "outputs": [],
   "execution_count": 21
  },
  {
   "cell_type": "code",
   "source": [
    "runner = unittest.TextTestRunner(verbosity=2)\n",
    "suite = unittest.TestLoader().loadTestsFromTestCase(TestSol)\n",
    "runner.run(suite)"
   ],
   "metadata": {
    "colab": {
     "base_uri": "https://localhost:8080/"
    },
    "id": "E_1bzA0jdY4U",
    "outputId": "94296168-c0bf-45a4-e0ea-89491c65e2e5",
    "ExecuteTime": {
     "end_time": "2024-12-27T13:20:12.352420Z",
     "start_time": "2024-12-27T13:20:12.324941Z"
    }
   },
   "outputs": [
    {
     "name": "stderr",
     "output_type": "stream",
     "text": [
      "test_1 (__main__.TestSol) ... ok\n",
      "test_2 (__main__.TestSol) ... ok\n",
      "test_3 (__main__.TestSol) ... ok\n",
      "\n",
      "----------------------------------------------------------------------\n",
      "Ran 3 tests in 0.004s\n",
      "\n",
      "OK\n"
     ]
    },
    {
     "data": {
      "text/plain": [
       "<unittest.runner.TextTestResult run=3 errors=0 failures=0>"
      ]
     },
     "execution_count": 22,
     "metadata": {},
     "output_type": "execute_result"
    }
   ],
   "execution_count": 22
  },
  {
   "cell_type": "code",
   "source": [],
   "metadata": {
    "id": "ZL-M49hhjEUG"
   },
   "execution_count": null,
   "outputs": []
  }
 ]
}

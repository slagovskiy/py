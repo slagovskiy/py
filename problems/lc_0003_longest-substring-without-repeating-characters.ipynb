{
 "cells": [
  {
   "metadata": {},
   "cell_type": "markdown",
   "source": [
    "Дана строка s, найдите длину самой длинной подстроки без повторяющихся символов.\n",
    "\n",
    "\n",
    "```\n",
    "Пример 1:\n",
    "\n",
    "Ввод: s = \"abcabcbb\"\n",
    "Вывод: 3\n",
    "Пояснение: Самая длинная подстрока \"abc\", длина которой 3.\n",
    "\n",
    "Пример 2:\n",
    "\n",
    "Ввод: s = \"bbbbb\"\n",
    "Вывод: 1\n",
    "Пояснение: Самая длинная подстрока \"b\", длина которой 1.\n",
    "\n",
    "Пример 3:\n",
    "\n",
    "Ввод: s = \"pwwkew\"\n",
    "Вывод: 3\n",
    "\n",
    "Пояснение: Самая длинная подстрока \"wke\", длина которой 3.\n",
    "Учтите, что надо найти длину самой длинной подстроки, \"pwke\" является подпоследовательностью, а не подстрокой.\n",
    " ```\n",
    "\n",
    "Ограничения:\n",
    "\n",
    "* $0 <= s.length <= 5 * 10^4$\n",
    "* s состоит из английских букв, цифр, символов и пробелов."
   ],
   "id": "f8f7915d2c1a6e16"
  },
  {
   "metadata": {
    "ExecuteTime": {
     "end_time": "2024-12-27T17:26:54.613091Z",
     "start_time": "2024-12-27T17:26:54.599641Z"
    }
   },
   "cell_type": "code",
   "source": [
    "class Solution:\n",
    "    def lengthOfLongestSubstring(self, s: str) -> int:\n",
    "        if len(s) == 1:\n",
    "            return 1\n",
    "        left, right = 0, 1\n",
    "        max_length = 0\n",
    "        length = 0\n",
    "        while right < len(s):\n",
    "            if s[right] not in s[left: right]:\n",
    "                right += 1\n",
    "                length = right - left\n",
    "            else:\n",
    "                if length > max_length:\n",
    "                    max_length = length\n",
    "                left += 1\n",
    "        if length > max_length:\n",
    "            return length\n",
    "        return max_length\n",
    "\n",
    "# плавающее окно"
   ],
   "id": "2b702dd654312d48",
   "outputs": [],
   "execution_count": 19
  },
  {
   "metadata": {
    "ExecuteTime": {
     "end_time": "2024-12-27T17:30:54.182738Z",
     "start_time": "2024-12-27T17:30:54.168710Z"
    }
   },
   "cell_type": "code",
   "source": [
    "class Solution:\n",
    "    def lengthOfLongestSubstring(self, s: str) -> int:\n",
    "        left = max_length = 0\n",
    "        char_set = set()\n",
    "\n",
    "        for right in range(len(s)):\n",
    "            while s[right] in char_set:\n",
    "                char_set.remove(s[left])\n",
    "                left += 1\n",
    "\n",
    "            char_set.add(s[right])\n",
    "            max_length = max(max_length, right - left + 1)\n",
    "\n",
    "        return max_length\n",
    "\n",
    "# плавающее окно и сет"
   ],
   "id": "2d0c4a4929f6841e",
   "outputs": [],
   "execution_count": 20
  },
  {
   "metadata": {
    "ExecuteTime": {
     "end_time": "2024-12-27T17:30:55.100957Z",
     "start_time": "2024-12-27T17:30:55.087387Z"
    }
   },
   "cell_type": "code",
   "source": [
    "import unittest\n",
    "\n",
    "class TestSol(unittest.TestCase):\n",
    "    sol = Solution()\n",
    "    def test_1(self):\n",
    "        self.assertEqual(self.sol.lengthOfLongestSubstring(\"abcabcbb\"), 3)\n",
    "\n",
    "    def test_2(self):\n",
    "        self.assertEqual(self.sol.lengthOfLongestSubstring(\"bbbbb\"), 1)\n",
    "\n",
    "    def test_3(self):\n",
    "        self.assertEqual(self.sol.lengthOfLongestSubstring(\"pwwkew\"), 3)"
   ],
   "id": "6c58ad7e58a8d3df",
   "outputs": [],
   "execution_count": 21
  },
  {
   "cell_type": "code",
   "id": "initial_id",
   "metadata": {
    "collapsed": true,
    "ExecuteTime": {
     "end_time": "2024-12-27T17:30:56.038565Z",
     "start_time": "2024-12-27T17:30:56.027590Z"
    }
   },
   "source": [
    "runner = unittest.TextTestRunner(verbosity=2)\n",
    "suite = unittest.TestLoader().loadTestsFromTestCase(TestSol)\n",
    "runner.run(suite)"
   ],
   "outputs": [
    {
     "name": "stderr",
     "output_type": "stream",
     "text": [
      "test_1 (__main__.TestSol) ... ok\n",
      "test_2 (__main__.TestSol) ... ok\n",
      "test_3 (__main__.TestSol) ... ok\n",
      "\n",
      "----------------------------------------------------------------------\n",
      "Ran 3 tests in 0.003s\n",
      "\n",
      "OK\n"
     ]
    },
    {
     "data": {
      "text/plain": [
       "<unittest.runner.TextTestResult run=3 errors=0 failures=0>"
      ]
     },
     "execution_count": 22,
     "metadata": {},
     "output_type": "execute_result"
    }
   ],
   "execution_count": 22
  },
  {
   "metadata": {},
   "cell_type": "code",
   "outputs": [],
   "execution_count": null,
   "source": "",
   "id": "9152dba0ddcab5bc"
  }
 ],
 "metadata": {
  "kernelspec": {
   "display_name": "Python 3",
   "language": "python",
   "name": "python3"
  },
  "language_info": {
   "codemirror_mode": {
    "name": "ipython",
    "version": 2
   },
   "file_extension": ".py",
   "mimetype": "text/x-python",
   "name": "python",
   "nbconvert_exporter": "python",
   "pygments_lexer": "ipython2",
   "version": "2.7.6"
  }
 },
 "nbformat": 4,
 "nbformat_minor": 5
}

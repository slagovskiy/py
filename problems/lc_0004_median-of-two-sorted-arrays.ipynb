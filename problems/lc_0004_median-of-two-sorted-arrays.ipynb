{
 "cells": [
  {
   "metadata": {},
   "cell_type": "markdown",
   "source": [
    "Даны два отсортированных массива nums1 и nums2 длины m и n соответственно. Верните медиану двух отсортированных массивов.\n",
    "\n",
    "Общая сложность по времени должна быть O(log (m+n)).\n",
    "\n",
    "\n",
    "```\n",
    "Пример 1:\n",
    "\n",
    "Ввод: nums1 = [1,3], nums2 = [2]\n",
    "Вывод: 2.00000\n",
    "Пояснение: объединенный массив = [1,2,3], медиана равна 2.\n",
    "\n",
    "Пример 2:\n",
    "\n",
    "Ввод: nums1 = [1,2], nums2 = [3,4]\n",
    "Вывод: 2.50000\n",
    "Пояснение: объединенный массив = [1,2,3,4], медиана равна (2 + 3) / 2 = 2.5.\n",
    "```\n",
    "\n",
    "Ограничения:\n",
    "\n",
    "* nums1.length == m\n",
    "* nums2.length == n\n",
    "* 0 <= m <= 1000\n",
    "* 0 <= n <= 1000\n",
    "* 1 <= m + n <= 2000\n",
    "* $-10^6 <= nums1[i], nums2[i] <= 10^6$"
   ],
   "id": "bb3ad819f8daddff"
  },
  {
   "cell_type": "code",
   "id": "initial_id",
   "metadata": {
    "collapsed": true,
    "ExecuteTime": {
     "end_time": "2024-12-27T19:33:24.840605Z",
     "start_time": "2024-12-27T19:33:24.827649Z"
    }
   },
   "source": [
    "from typing import List\n",
    "\n",
    "class Solution:\n",
    "    def findMedianSortedArrays(self, nums1: List[int], nums2: List[int]) -> float:\n",
    "        s1 = len(nums1)\n",
    "        s2 = len(nums2)\n",
    "\n",
    "        # проверяем - первый массив меньше второго, иначе перевызываем функцию\n",
    "        if s1 > s2:\n",
    "            return self.findMedianSortedArrays(nums2, nums1)\n",
    "\n",
    "        total = s1 + s2\n",
    "        half, is_odd = (s1 + s2) // 2, total % 2\n",
    "\n",
    "        # левый и правый указатели на первом (минимальном массиве)\n",
    "        left = 0\n",
    "        right = s1 - 1\n",
    "\n",
    "        while True:\n",
    "            idx1 = left + (right - left) // 2\n",
    "            idx2 = half - idx1 - 2  # 2 это поправка на то, что индексация первого и второго начинается с 0\n",
    "\n",
    "            # максимальное значение слева от предполагаемой середины первого массива\n",
    "            max_left_1 = nums1[idx1] if idx1 >= 0 else float('-inf')\n",
    "            idx1_next = idx1 + 1\n",
    "            # минимально значение справа от предполагаемой середины первого массива\n",
    "            min_right_1 = nums1[idx1_next] if idx1_next <= len(nums1) - 1 else float('inf')\n",
    "\n",
    "            # максимальное значение слева от предполагаемой середины второго массива\n",
    "            max_left_2 = nums2[idx2] if idx2 >= 0 else float('-inf')\n",
    "            idx2_next = idx2 + 1\n",
    "            # минимально значение справа от предполагаемой середины второго массива\n",
    "            min_right_2 = nums2[idx2_next] if idx2_next <= len(nums2) - 1 else float('inf')\n",
    "\n",
    "            if max_left_1 <= min_right_2 and min_right_1 <= max_left_2:\n",
    "                # если нечетное, то возвращаем минимальное из минимальных\n",
    "                if is_odd:\n",
    "                    return min(min_right_1, min_right_2)\n",
    "                # если четное, то складываем минимальное из минимальных\n",
    "                # и максимальное из максимальных\n",
    "                # и делим на 2\n",
    "                else:\n",
    "                    return (min(min_right_1, min_right_1) + max(max_left_1, max_left_2)) / 2\n",
    "            elif max_left_1 >= min_right_2:\n",
    "                right = idx1 - 1\n",
    "            else:\n",
    "                left = idx1 + 1\n",
    "\n",
    "\n",
    "# двоичный поиск, находим длину результирующего массива, дальше делим первый и второй массив\n",
    "# и пробуем найти точку состыковки"
   ],
   "outputs": [],
   "execution_count": 40
  },
  {
   "metadata": {
    "ExecuteTime": {
     "end_time": "2024-12-27T19:33:26.351520Z",
     "start_time": "2024-12-27T19:33:26.337023Z"
    }
   },
   "cell_type": "code",
   "source": [
    "import unittest\n",
    "\n",
    "class TestSol(unittest.TestCase):\n",
    "    sol = Solution()\n",
    "    def test_1(self):\n",
    "        self.assertEqual(self.sol.findMedianSortedArrays([1, 3], [2]), 2)\n",
    "\n",
    "    def test_2(self):\n",
    "        self.assertEqual(self.sol.findMedianSortedArrays([1,2], [3,4]), 2.5)\n",
    "\n",
    "    def test_3(self):\n",
    "        self.assertEqual(self.sol.findMedianSortedArrays([1], [2]), 1.5)\n",
    "\n",
    "    def test_4(self):\n",
    "        self.assertEqual(self.sol.findMedianSortedArrays([1,3,7], [9,11,14]), 8)"
   ],
   "id": "791b62a4c960d048",
   "outputs": [],
   "execution_count": 41
  },
  {
   "metadata": {
    "ExecuteTime": {
     "end_time": "2024-12-27T19:34:00.163275Z",
     "start_time": "2024-12-27T19:33:27.069700Z"
    }
   },
   "cell_type": "code",
   "source": [
    "runner = unittest.TextTestRunner(verbosity=2)\n",
    "suite = unittest.TestLoader().loadTestsFromTestCase(TestSol)\n",
    "runner.run(suite)"
   ],
   "id": "b2cf82990b60233a",
   "outputs": [
    {
     "name": "stderr",
     "output_type": "stream",
     "text": [
      "test_1 (__main__.TestSol) ... "
     ]
    },
    {
     "ename": "KeyboardInterrupt",
     "evalue": "",
     "output_type": "error",
     "traceback": [
      "\u001B[1;31m---------------------------------------------------------------------------\u001B[0m",
      "\u001B[1;31mKeyboardInterrupt\u001B[0m                         Traceback (most recent call last)",
      "Cell \u001B[1;32mIn[42], line 3\u001B[0m\n\u001B[0;32m      1\u001B[0m runner \u001B[38;5;241m=\u001B[39m unittest\u001B[38;5;241m.\u001B[39mTextTestRunner(verbosity\u001B[38;5;241m=\u001B[39m\u001B[38;5;241m2\u001B[39m)\n\u001B[0;32m      2\u001B[0m suite \u001B[38;5;241m=\u001B[39m unittest\u001B[38;5;241m.\u001B[39mTestLoader()\u001B[38;5;241m.\u001B[39mloadTestsFromTestCase(TestSol)\n\u001B[1;32m----> 3\u001B[0m \u001B[43mrunner\u001B[49m\u001B[38;5;241;43m.\u001B[39;49m\u001B[43mrun\u001B[49m\u001B[43m(\u001B[49m\u001B[43msuite\u001B[49m\u001B[43m)\u001B[49m\n",
      "File \u001B[1;32mC:\\Python310\\lib\\unittest\\runner.py:184\u001B[0m, in \u001B[0;36mTextTestRunner.run\u001B[1;34m(self, test)\u001B[0m\n\u001B[0;32m    182\u001B[0m     startTestRun()\n\u001B[0;32m    183\u001B[0m \u001B[38;5;28;01mtry\u001B[39;00m:\n\u001B[1;32m--> 184\u001B[0m     \u001B[43mtest\u001B[49m\u001B[43m(\u001B[49m\u001B[43mresult\u001B[49m\u001B[43m)\u001B[49m\n\u001B[0;32m    185\u001B[0m \u001B[38;5;28;01mfinally\u001B[39;00m:\n\u001B[0;32m    186\u001B[0m     stopTestRun \u001B[38;5;241m=\u001B[39m \u001B[38;5;28mgetattr\u001B[39m(result, \u001B[38;5;124m'\u001B[39m\u001B[38;5;124mstopTestRun\u001B[39m\u001B[38;5;124m'\u001B[39m, \u001B[38;5;28;01mNone\u001B[39;00m)\n",
      "File \u001B[1;32mC:\\Python310\\lib\\unittest\\suite.py:84\u001B[0m, in \u001B[0;36mBaseTestSuite.__call__\u001B[1;34m(self, *args, **kwds)\u001B[0m\n\u001B[0;32m     83\u001B[0m \u001B[38;5;28;01mdef\u001B[39;00m \u001B[38;5;21m__call__\u001B[39m(\u001B[38;5;28mself\u001B[39m, \u001B[38;5;241m*\u001B[39margs, \u001B[38;5;241m*\u001B[39m\u001B[38;5;241m*\u001B[39mkwds):\n\u001B[1;32m---> 84\u001B[0m     \u001B[38;5;28;01mreturn\u001B[39;00m \u001B[38;5;28mself\u001B[39m\u001B[38;5;241m.\u001B[39mrun(\u001B[38;5;241m*\u001B[39margs, \u001B[38;5;241m*\u001B[39m\u001B[38;5;241m*\u001B[39mkwds)\n",
      "File \u001B[1;32mC:\\Python310\\lib\\unittest\\suite.py:122\u001B[0m, in \u001B[0;36mTestSuite.run\u001B[1;34m(self, result, debug)\u001B[0m\n\u001B[0;32m    119\u001B[0m         \u001B[38;5;28;01mcontinue\u001B[39;00m\n\u001B[0;32m    121\u001B[0m \u001B[38;5;28;01mif\u001B[39;00m \u001B[38;5;129;01mnot\u001B[39;00m debug:\n\u001B[1;32m--> 122\u001B[0m     \u001B[43mtest\u001B[49m\u001B[43m(\u001B[49m\u001B[43mresult\u001B[49m\u001B[43m)\u001B[49m\n\u001B[0;32m    123\u001B[0m \u001B[38;5;28;01melse\u001B[39;00m:\n\u001B[0;32m    124\u001B[0m     test\u001B[38;5;241m.\u001B[39mdebug()\n",
      "File \u001B[1;32mC:\\Python310\\lib\\unittest\\case.py:650\u001B[0m, in \u001B[0;36mTestCase.__call__\u001B[1;34m(self, *args, **kwds)\u001B[0m\n\u001B[0;32m    649\u001B[0m \u001B[38;5;28;01mdef\u001B[39;00m \u001B[38;5;21m__call__\u001B[39m(\u001B[38;5;28mself\u001B[39m, \u001B[38;5;241m*\u001B[39margs, \u001B[38;5;241m*\u001B[39m\u001B[38;5;241m*\u001B[39mkwds):\n\u001B[1;32m--> 650\u001B[0m     \u001B[38;5;28;01mreturn\u001B[39;00m \u001B[38;5;28mself\u001B[39m\u001B[38;5;241m.\u001B[39mrun(\u001B[38;5;241m*\u001B[39margs, \u001B[38;5;241m*\u001B[39m\u001B[38;5;241m*\u001B[39mkwds)\n",
      "File \u001B[1;32mC:\\Python310\\lib\\unittest\\case.py:591\u001B[0m, in \u001B[0;36mTestCase.run\u001B[1;34m(self, result)\u001B[0m\n\u001B[0;32m    589\u001B[0m outcome\u001B[38;5;241m.\u001B[39mexpecting_failure \u001B[38;5;241m=\u001B[39m expecting_failure\n\u001B[0;32m    590\u001B[0m \u001B[38;5;28;01mwith\u001B[39;00m outcome\u001B[38;5;241m.\u001B[39mtestPartExecutor(\u001B[38;5;28mself\u001B[39m, isTest\u001B[38;5;241m=\u001B[39m\u001B[38;5;28;01mTrue\u001B[39;00m):\n\u001B[1;32m--> 591\u001B[0m     \u001B[38;5;28;43mself\u001B[39;49m\u001B[38;5;241;43m.\u001B[39;49m\u001B[43m_callTestMethod\u001B[49m\u001B[43m(\u001B[49m\u001B[43mtestMethod\u001B[49m\u001B[43m)\u001B[49m\n\u001B[0;32m    592\u001B[0m outcome\u001B[38;5;241m.\u001B[39mexpecting_failure \u001B[38;5;241m=\u001B[39m \u001B[38;5;28;01mFalse\u001B[39;00m\n\u001B[0;32m    593\u001B[0m \u001B[38;5;28;01mwith\u001B[39;00m outcome\u001B[38;5;241m.\u001B[39mtestPartExecutor(\u001B[38;5;28mself\u001B[39m):\n",
      "File \u001B[1;32mC:\\Python310\\lib\\unittest\\case.py:549\u001B[0m, in \u001B[0;36mTestCase._callTestMethod\u001B[1;34m(self, method)\u001B[0m\n\u001B[0;32m    548\u001B[0m \u001B[38;5;28;01mdef\u001B[39;00m \u001B[38;5;21m_callTestMethod\u001B[39m(\u001B[38;5;28mself\u001B[39m, method):\n\u001B[1;32m--> 549\u001B[0m     \u001B[43mmethod\u001B[49m\u001B[43m(\u001B[49m\u001B[43m)\u001B[49m\n",
      "Cell \u001B[1;32mIn[41], line 6\u001B[0m, in \u001B[0;36mTestSol.test_1\u001B[1;34m(self)\u001B[0m\n\u001B[0;32m      5\u001B[0m \u001B[38;5;28;01mdef\u001B[39;00m \u001B[38;5;21mtest_1\u001B[39m(\u001B[38;5;28mself\u001B[39m):\n\u001B[1;32m----> 6\u001B[0m     \u001B[38;5;28mself\u001B[39m\u001B[38;5;241m.\u001B[39massertEqual(\u001B[38;5;28;43mself\u001B[39;49m\u001B[38;5;241;43m.\u001B[39;49m\u001B[43msol\u001B[49m\u001B[38;5;241;43m.\u001B[39;49m\u001B[43mfindMedianSortedArrays\u001B[49m\u001B[43m(\u001B[49m\u001B[43m[\u001B[49m\u001B[38;5;241;43m1\u001B[39;49m\u001B[43m,\u001B[49m\u001B[43m \u001B[49m\u001B[38;5;241;43m3\u001B[39;49m\u001B[43m]\u001B[49m\u001B[43m,\u001B[49m\u001B[43m \u001B[49m\u001B[43m[\u001B[49m\u001B[38;5;241;43m2\u001B[39;49m\u001B[43m]\u001B[49m\u001B[43m)\u001B[49m, \u001B[38;5;241m2\u001B[39m)\n",
      "Cell \u001B[1;32mIn[40], line 10\u001B[0m, in \u001B[0;36mSolution.findMedianSortedArrays\u001B[1;34m(self, nums1, nums2)\u001B[0m\n\u001B[0;32m      8\u001B[0m \u001B[38;5;66;03m# проверяем - первый массив меньше второго, иначе перевызываем функцию\u001B[39;00m\n\u001B[0;32m      9\u001B[0m \u001B[38;5;28;01mif\u001B[39;00m s1 \u001B[38;5;241m>\u001B[39m s2:\n\u001B[1;32m---> 10\u001B[0m     \u001B[38;5;28;01mreturn\u001B[39;00m \u001B[38;5;28;43mself\u001B[39;49m\u001B[38;5;241;43m.\u001B[39;49m\u001B[43mfindMedianSortedArrays\u001B[49m\u001B[43m(\u001B[49m\u001B[43mnums2\u001B[49m\u001B[43m,\u001B[49m\u001B[43m \u001B[49m\u001B[43mnums1\u001B[49m\u001B[43m)\u001B[49m\n\u001B[0;32m     12\u001B[0m total \u001B[38;5;241m=\u001B[39m s1 \u001B[38;5;241m+\u001B[39m s2\n\u001B[0;32m     13\u001B[0m half, is_odd \u001B[38;5;241m=\u001B[39m (s1 \u001B[38;5;241m+\u001B[39m s2) \u001B[38;5;241m/\u001B[39m\u001B[38;5;241m/\u001B[39m \u001B[38;5;241m2\u001B[39m, total \u001B[38;5;241m%\u001B[39m \u001B[38;5;241m2\u001B[39m\n",
      "Cell \u001B[1;32mIn[40], line 44\u001B[0m, in \u001B[0;36mSolution.findMedianSortedArrays\u001B[1;34m(self, nums1, nums2)\u001B[0m\n\u001B[0;32m     39\u001B[0m     \u001B[38;5;66;03m# если четное, то складываем минимальное из минимальных\u001B[39;00m\n\u001B[0;32m     40\u001B[0m     \u001B[38;5;66;03m# и максимальное из максимальных\u001B[39;00m\n\u001B[0;32m     41\u001B[0m     \u001B[38;5;66;03m# и делим на 2\u001B[39;00m\n\u001B[0;32m     42\u001B[0m     \u001B[38;5;28;01melse\u001B[39;00m:\n\u001B[0;32m     43\u001B[0m         \u001B[38;5;28;01mreturn\u001B[39;00m (\u001B[38;5;28mmin\u001B[39m(min_right_1, min_right_1) \u001B[38;5;241m+\u001B[39m \u001B[38;5;28mmax\u001B[39m(max_left_1, max_left_2)) \u001B[38;5;241m/\u001B[39m \u001B[38;5;241m2\u001B[39m\n\u001B[1;32m---> 44\u001B[0m \u001B[38;5;28;01melif\u001B[39;00m \u001B[43mmax_left_1\u001B[49m\u001B[43m \u001B[49m\u001B[38;5;241;43m>\u001B[39;49m\u001B[38;5;241;43m=\u001B[39;49m\u001B[43m \u001B[49m\u001B[43mmin_right_2\u001B[49m:\n\u001B[0;32m     45\u001B[0m     right \u001B[38;5;241m=\u001B[39m idx1 \u001B[38;5;241m-\u001B[39m \u001B[38;5;241m1\u001B[39m\n\u001B[0;32m     46\u001B[0m \u001B[38;5;28;01melse\u001B[39;00m:\n",
      "\u001B[1;31mKeyboardInterrupt\u001B[0m: "
     ]
    }
   ],
   "execution_count": 42
  },
  {
   "metadata": {},
   "cell_type": "code",
   "outputs": [],
   "execution_count": null,
   "source": "",
   "id": "2ecd57f5d4ece5d2"
  }
 ],
 "metadata": {
  "kernelspec": {
   "display_name": "Python 3",
   "language": "python",
   "name": "python3"
  },
  "language_info": {
   "codemirror_mode": {
    "name": "ipython",
    "version": 2
   },
   "file_extension": ".py",
   "mimetype": "text/x-python",
   "name": "python",
   "nbconvert_exporter": "python",
   "pygments_lexer": "ipython2",
   "version": "2.7.6"
  }
 },
 "nbformat": 4,
 "nbformat_minor": 5
}

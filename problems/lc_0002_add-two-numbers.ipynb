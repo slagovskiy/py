{
 "cells": [
  {
   "metadata": {},
   "cell_type": "markdown",
   "source": [
    "Вам даны два непустых связных списка, представляющих собой два неотрицательных целых числа. Цифры в них хранятся в обратном порядке, и каждый из их узлов содержит одну цифру. Сложите два числа и верните сумму в виде связного списка.\n",
    "\n",
    "Гарантируется, что эти два числа не содержат ведущих нулей, за исключением самого числа 0.\n",
    "\n",
    "Пример:\n",
    "\n",
    "![](files/addtwonumber1.jpg)\n",
    "```\n",
    "Ввод: l1 = [2,4,3], l2 = [5,6,4]\n",
    "Вывод: [7,0,8]\n",
    "Пояснение: 342 + 465 = 807.\n",
    "Пример 2:\n",
    "\n",
    "Ввод: l1 = [0], l2 = [0]\n",
    "Вывод: [0]\n",
    "Пример 3:\n",
    "\n",
    "Ввод: l1 = [9,9,9,9,9,9,9], l2 = [9,9,9,9]\n",
    "Вывод: [8,9,9,9,0,0,0,1]\n",
    "```\n",
    "\n",
    "Ограничения:\n",
    "\n",
    "* Количество узлов в каждом из связных списков находится в диапазоне [1, 100].\n",
    "* 0 <= Node.val <= 9\n",
    "* Гарантируется, что связный список представляет собой число, не имеющее ведущих нулей."
   ],
   "id": "3f95f37fb9b298bd"
  },
  {
   "metadata": {
    "ExecuteTime": {
     "end_time": "2024-12-27T14:29:09.120103Z",
     "start_time": "2024-12-27T14:29:09.092523Z"
    }
   },
   "cell_type": "code",
   "source": [
    "from typing import Optional, List\n",
    "# Definition for singly-linked list.\n",
    "class ListNode:\n",
    "    def __init__(self, val=0, next=None):\n",
    "        self.val = val\n",
    "        self.next = next\n",
    "class Helper:\n",
    "    @staticmethod\n",
    "    def listNodes2List(lst: ListNode) -> List:\n",
    "        l = []\n",
    "        while lst:\n",
    "            l.append(lst.val)\n",
    "            lst = lst.next\n",
    "        return l\n",
    "\n",
    "    @staticmethod\n",
    "    def list2ListNodes(lst: List) -> ListNode:\n",
    "        _l = ListNode(lst[0])\n",
    "        l = _l\n",
    "        for i in range(1, len(lst)):\n",
    "            _l.next = ListNode(lst[i])\n",
    "            _l = _l.next\n",
    "        return l\n",
    "\n",
    "\n",
    "class Solution:\n",
    "    def addTwoNumbers(self, l1: Optional[ListNode], l2: Optional[ListNode]) -> Optional[ListNode]:\n",
    "        calc = ListNode()\n",
    "        res = calc  # link on 0 element\n",
    "\n",
    "        total = 0\n",
    "\n",
    "        carry = 0\n",
    "\n",
    "        while l1 or l2 or carry:\n",
    "            total = carry\n",
    "\n",
    "            if l1:\n",
    "                total += l1.val\n",
    "                l1 = l1.next\n",
    "            if l2:\n",
    "                total += l2.val\n",
    "                l2 = l2.next\n",
    "\n",
    "            num = total % 10\n",
    "            carry = total // 10\n",
    "            calc.next = ListNode(num)\n",
    "            calc = calc.next\n",
    "\n",
    "        return res.next\n"
   ],
   "id": "8d92d5cf843c8a9c",
   "outputs": [],
   "execution_count": 58
  },
  {
   "metadata": {
    "ExecuteTime": {
     "end_time": "2024-12-27T14:30:02.041754Z",
     "start_time": "2024-12-27T14:30:02.013187Z"
    }
   },
   "cell_type": "code",
   "source": [
    "import unittest\n",
    "\n",
    "class TestSol(unittest.TestCase):\n",
    "    sol = Solution()\n",
    "    def test_1(self):\n",
    "        self.assertEqual(Helper.listNodes2List(\n",
    "            self.sol.addTwoNumbers(Helper.list2ListNodes([2, 4, 3]),\n",
    "                                   Helper.list2ListNodes([5, 6, 4]))\n",
    "        ), [7, 0, 8])\n",
    "\n",
    "    def test_2(self):\n",
    "        l1 = ListNode(0)\n",
    "        l2 = ListNode(0)\n",
    "\n",
    "        self.assertEqual(Helper.listNodes2List(\n",
    "            self.sol.addTwoNumbers(Helper.list2ListNodes([0]),\n",
    "                                   Helper.list2ListNodes([0]))\n",
    "        ), [0])\n",
    "\n",
    "    def test_3(self):\n",
    "        self.assertEqual(\n",
    "            Helper.listNodes2List(\n",
    "                self.sol.addTwoNumbers(Helper.list2ListNodes([9,9,9,9,9,9,9]),\n",
    "                                       Helper.list2ListNodes([9,9,9,9]))\n",
    "            ), [8,9,9,9,0,0,0,1])\n",
    "\n",
    "    def test_4(self):\n",
    "        self.assertEqual(\n",
    "            Helper.listNodes2List(\n",
    "                self.sol.addTwoNumbers(Helper.list2ListNodes([1,2,3,4,5,6,7,8]),\n",
    "                                       Helper.list2ListNodes([0]))\n",
    "            ), [1,2,3,4,5,6,7,8])\n",
    "\n",
    "    def test_5(self):\n",
    "        self.assertEqual(\n",
    "            Helper.listNodes2List(\n",
    "                self.sol.addTwoNumbers(Helper.list2ListNodes([5]),\n",
    "                                       Helper.list2ListNodes([5]))\n",
    "            ), [0, 1])"
   ],
   "id": "7cc19785be118236",
   "outputs": [],
   "execution_count": 64
  },
  {
   "metadata": {
    "ExecuteTime": {
     "end_time": "2024-12-27T14:30:02.397420Z",
     "start_time": "2024-12-27T14:30:02.369907Z"
    }
   },
   "cell_type": "code",
   "source": [
    "runner = unittest.TextTestRunner(verbosity=2)\n",
    "suite = unittest.TestLoader().loadTestsFromTestCase(TestSol)\n",
    "runner.run(suite)"
   ],
   "id": "aa3fe02f488f29b5",
   "outputs": [
    {
     "name": "stderr",
     "output_type": "stream",
     "text": [
      "test_1 (__main__.TestSol) ... ok\n",
      "test_2 (__main__.TestSol) ... ok\n",
      "test_3 (__main__.TestSol) ... ok\n",
      "test_4 (__main__.TestSol) ... ok\n",
      "test_5 (__main__.TestSol) ... ok\n",
      "\n",
      "----------------------------------------------------------------------\n",
      "Ran 5 tests in 0.006s\n",
      "\n",
      "OK\n"
     ]
    },
    {
     "data": {
      "text/plain": [
       "<unittest.runner.TextTestResult run=5 errors=0 failures=0>"
      ]
     },
     "execution_count": 65,
     "metadata": {},
     "output_type": "execute_result"
    }
   ],
   "execution_count": 65
  },
  {
   "metadata": {},
   "cell_type": "code",
   "outputs": [],
   "execution_count": null,
   "source": "",
   "id": "4bd088878b4bbf7a"
  }
 ],
 "metadata": {
  "kernelspec": {
   "display_name": "Python 3",
   "language": "python",
   "name": "python3"
  },
  "language_info": {
   "codemirror_mode": {
    "name": "ipython",
    "version": 2
   },
   "file_extension": ".py",
   "mimetype": "text/x-python",
   "name": "python",
   "nbconvert_exporter": "python",
   "pygments_lexer": "ipython2",
   "version": "2.7.6"
  }
 },
 "nbformat": 4,
 "nbformat_minor": 5
}

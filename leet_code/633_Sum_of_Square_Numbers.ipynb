{
  "nbformat": 4,
  "nbformat_minor": 0,
  "metadata": {
    "colab": {
      "provenance": [],
      "authorship_tag": "ABX9TyMwOLbvuy1sjI2E6smXoTCB",
      "include_colab_link": true
    },
    "kernelspec": {
      "name": "python3",
      "display_name": "Python 3"
    },
    "language_info": {
      "name": "python"
    }
  },
  "cells": [
    {
      "cell_type": "markdown",
      "metadata": {
        "id": "view-in-github",
        "colab_type": "text"
      },
      "source": [
        "<a href=\"https://colab.research.google.com/github/slagovskiy/py/blob/main/leet_code/633_Sum_of_Square_Numbers.ipynb\" target=\"_parent\"><img src=\"https://colab.research.google.com/assets/colab-badge.svg\" alt=\"Open In Colab\"/></a>"
      ]
    },
    {
      "cell_type": "markdown",
      "source": [
        "Given a non-negative integer c, decide whether there're two integers a and b such that $a^2 + b^2 = c$.\n",
        "\n",
        "```\n",
        "Example 1:\n",
        "\n",
        "Input: c = 5\n",
        "Output: true\n",
        "Explanation: 1 * 1 + 2 * 2 = 5\n",
        "\n",
        "Example 2:\n",
        "\n",
        "Input: c = 3\n",
        "Output: false\n",
        "```\n",
        "\n",
        "Constraints:\n",
        "\n",
        "$0 <= c <= 2^{31}-1$"
      ],
      "metadata": {
        "id": "NaNoy9YqNFbJ"
      }
    },
    {
      "cell_type": "code",
      "source": [],
      "metadata": {
        "id": "fiqhb4dxPgIy"
      },
      "execution_count": null,
      "outputs": []
    }
  ]
}
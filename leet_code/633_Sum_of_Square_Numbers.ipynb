{
  "nbformat": 4,
  "nbformat_minor": 0,
  "metadata": {
    "colab": {
      "provenance": [],
      "authorship_tag": "ABX9TyMRkLQBCrxq+Xlik/SjKCb4",
      "include_colab_link": true
    },
    "kernelspec": {
      "name": "python3",
      "display_name": "Python 3"
    },
    "language_info": {
      "name": "python"
    }
  },
  "cells": [
    {
      "cell_type": "markdown",
      "metadata": {
        "id": "view-in-github",
        "colab_type": "text"
      },
      "source": [
        "<a href=\"https://colab.research.google.com/github/slagovskiy/py/blob/main/leet_code/633_Sum_of_Square_Numbers.ipynb\" target=\"_parent\"><img src=\"https://colab.research.google.com/assets/colab-badge.svg\" alt=\"Open In Colab\"/></a>"
      ]
    },
    {
      "cell_type": "markdown",
      "source": [
        "Given a non-negative integer c, decide whether there're two integers a and b such that $a^2 + b^2 = c$.\n",
        "\n",
        "```\n",
        "Example 1:\n",
        "\n",
        "Input: c = 5\n",
        "Output: true\n",
        "Explanation: 1 * 1 + 2 * 2 = 5\n",
        "\n",
        "Example 2:\n",
        "\n",
        "Input: c = 3\n",
        "Output: false\n",
        "```\n",
        "\n",
        "Constraints:\n",
        "\n",
        "$0 <= c <= 2^{31}-1$"
      ],
      "metadata": {
        "id": "NaNoy9YqNFbJ"
      }
    },
    {
      "cell_type": "markdown",
      "source": [
        "если $a^2 + b^2 = c$\n",
        "\n",
        "то $b = \\sqrt{c - b^2}$\n",
        "\n",
        "следовательно $a <= \\sqrt{c}$"
      ],
      "metadata": {
        "id": "D133d7XSa9WB"
      }
    },
    {
      "cell_type": "code",
      "source": [
        "from math import sqrt\n",
        "\n",
        "def sol(c: int) -> bool:\n",
        "  for a in range(1, int(sqrt(c)) + 1):\n",
        "    b = sqrt(c - a * a)\n",
        "    if b == 0:\n",
        "      return False\n",
        "    if b == int(b):\n",
        "      # print(f'{a}^2 + {int(b)}^2 = {c}')\n",
        "      return True\n",
        "  return False"
      ],
      "metadata": {
        "id": "fiqhb4dxPgIy"
      },
      "execution_count": 38,
      "outputs": []
    },
    {
      "cell_type": "code",
      "source": [
        "import unittest\n",
        "\n",
        "class TestSol(unittest.TestCase):\n",
        "  def test_1(self):\n",
        "    self.assertTrue(sol(18), 'Should be True')\n",
        "\n",
        "  def test_2(self):\n",
        "    self.assertFalse(sol(9), 'Should be False')\n",
        "\n",
        "  def test_3(self):\n",
        "    self.assertTrue(sol(2147483650), 'Should be True')"
      ],
      "metadata": {
        "id": "2PqIxgoPb_IF"
      },
      "execution_count": 43,
      "outputs": []
    },
    {
      "cell_type": "code",
      "source": [
        "runner = unittest.TextTestRunner(verbosity=2)\n",
        "suite = unittest.TestLoader().loadTestsFromTestCase(TestSol)\n",
        "runner.run(suite)"
      ],
      "metadata": {
        "colab": {
          "base_uri": "https://localhost:8080/"
        },
        "id": "E_1bzA0jdY4U",
        "outputId": "94296168-c0bf-45a4-e0ea-89491c65e2e5"
      },
      "execution_count": 49,
      "outputs": [
        {
          "output_type": "stream",
          "name": "stderr",
          "text": [
            "test_1 (__main__.TestSol) ... ok\n",
            "test_2 (__main__.TestSol) ... ok\n",
            "test_3 (__main__.TestSol) ... ok\n",
            "\n",
            "----------------------------------------------------------------------\n",
            "Ran 3 tests in 0.013s\n",
            "\n",
            "OK\n"
          ]
        },
        {
          "output_type": "execute_result",
          "data": {
            "text/plain": [
              "<unittest.runner.TextTestResult run=3 errors=0 failures=0>"
            ]
          },
          "metadata": {},
          "execution_count": 49
        }
      ]
    },
    {
      "cell_type": "code",
      "source": [],
      "metadata": {
        "id": "ZL-M49hhjEUG"
      },
      "execution_count": null,
      "outputs": []
    }
  ]
}
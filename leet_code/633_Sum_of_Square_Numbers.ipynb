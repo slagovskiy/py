{
  "nbformat": 4,
  "nbformat_minor": 0,
  "metadata": {
    "colab": {
      "provenance": [],
      "authorship_tag": "ABX9TyMQ9V20085YZcYV8LUCxWYo",
      "include_colab_link": true
    },
    "kernelspec": {
      "name": "python3",
      "display_name": "Python 3"
    },
    "language_info": {
      "name": "python"
    }
  },
  "cells": [
    {
      "cell_type": "markdown",
      "metadata": {
        "id": "view-in-github",
        "colab_type": "text"
      },
      "source": [
        "<a href=\"https://colab.research.google.com/github/slagovskiy/py/blob/main/leet_code/633_Sum_of_Square_Numbers.ipynb\" target=\"_parent\"><img src=\"https://colab.research.google.com/assets/colab-badge.svg\" alt=\"Open In Colab\"/></a>"
      ]
    },
    {
      "cell_type": "markdown",
      "source": [
        "Given a non-negative integer c, decide whether there're two integers a and b such that $a^2 + b^2 = c$.\n",
        "\n",
        "```\n",
        "Example 1:\n",
        "\n",
        "Input: c = 5\n",
        "Output: true\n",
        "Explanation: 1 * 1 + 2 * 2 = 5\n",
        "\n",
        "Example 2:\n",
        "\n",
        "Input: c = 3\n",
        "Output: false\n",
        "```\n",
        "\n",
        "Constraints:\n",
        "\n",
        "$0 <= c <= 2^{31}-1$"
      ],
      "metadata": {
        "id": "NaNoy9YqNFbJ"
      }
    },
    {
      "cell_type": "markdown",
      "source": [
        "если $a^2 + b^2 = c$\n",
        "\n",
        "то $b = \\sqrt{c - b^2}$\n",
        "\n",
        "следовательно $a <= \\sqrt{c}$"
      ],
      "metadata": {
        "id": "D133d7XSa9WB"
      }
    },
    {
      "cell_type": "code",
      "source": [
        "from math import sqrt\n",
        "\n",
        "def sol(c: int) -> bool:\n",
        "  for a in range(1, int(sqrt(c)) + 1):\n",
        "    b = sqrt(c - a * a)\n",
        "    if b == 0:\n",
        "      return False\n",
        "    if b == int(b):\n",
        "      print(f'{a}^2 + {int(b)}^2 = {c}')\n",
        "      return True\n",
        "  return False"
      ],
      "metadata": {
        "id": "fiqhb4dxPgIy"
      },
      "execution_count": 12,
      "outputs": []
    },
    {
      "cell_type": "code",
      "source": [
        "sol(9)"
      ],
      "metadata": {
        "colab": {
          "base_uri": "https://localhost:8080/"
        },
        "id": "2PqIxgoPb_IF",
        "outputId": "63a23970-4cba-4e07-804b-9d3c88ed3733"
      },
      "execution_count": 13,
      "outputs": [
        {
          "output_type": "execute_result",
          "data": {
            "text/plain": [
              "False"
            ]
          },
          "metadata": {},
          "execution_count": 13
        }
      ]
    },
    {
      "cell_type": "code",
      "source": [
        "sol(18)"
      ],
      "metadata": {
        "colab": {
          "base_uri": "https://localhost:8080/"
        },
        "id": "xcwq73fUcXP4",
        "outputId": "95f01314-98e6-4664-ff1a-fe45115583a8"
      },
      "execution_count": 14,
      "outputs": [
        {
          "output_type": "stream",
          "name": "stdout",
          "text": [
            "3^2 + 3^2 = 18\n"
          ]
        },
        {
          "output_type": "execute_result",
          "data": {
            "text/plain": [
              "True"
            ]
          },
          "metadata": {},
          "execution_count": 14
        }
      ]
    },
    {
      "cell_type": "code",
      "source": [
        "sol(20)"
      ],
      "metadata": {
        "colab": {
          "base_uri": "https://localhost:8080/"
        },
        "id": "YDQOE-K3cvlm",
        "outputId": "50a6a7fe-b3ab-47db-c5f9-098b7faf782c"
      },
      "execution_count": 15,
      "outputs": [
        {
          "output_type": "stream",
          "name": "stdout",
          "text": [
            "2^2 + 4^2 = 20\n"
          ]
        },
        {
          "output_type": "execute_result",
          "data": {
            "text/plain": [
              "True"
            ]
          },
          "metadata": {},
          "execution_count": 15
        }
      ]
    },
    {
      "cell_type": "code",
      "source": [
        "sol(2147483650)"
      ],
      "metadata": {
        "colab": {
          "base_uri": "https://localhost:8080/"
        },
        "id": "MtnXZsQQdNYa",
        "outputId": "0a139ccc-1bf2-43d7-9a11-f51ba2ae4f1c"
      },
      "execution_count": 17,
      "outputs": [
        {
          "output_type": "stream",
          "name": "stdout",
          "text": [
            "1825^2 + 46305^2 = 2147483650\n"
          ]
        },
        {
          "output_type": "execute_result",
          "data": {
            "text/plain": [
              "True"
            ]
          },
          "metadata": {},
          "execution_count": 17
        }
      ]
    },
    {
      "cell_type": "code",
      "source": [],
      "metadata": {
        "id": "E_1bzA0jdY4U"
      },
      "execution_count": null,
      "outputs": []
    }
  ]
}
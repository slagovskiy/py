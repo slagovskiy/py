{
  "nbformat": 4,
  "nbformat_minor": 0,
  "metadata": {
    "colab": {
      "provenance": [],
      "authorship_tag": "ABX9TyM+gVTqaJMpEXua7JkRe80q",
      "include_colab_link": true
    },
    "kernelspec": {
      "name": "python3",
      "display_name": "Python 3"
    },
    "language_info": {
      "name": "python"
    }
  },
  "cells": [
    {
      "cell_type": "markdown",
      "metadata": {
        "id": "view-in-github",
        "colab_type": "text"
      },
      "source": [
        "<a href=\"https://colab.research.google.com/github/slagovskiy/py/blob/main/leet_code/907_Sum_of_Subarray_Minimums.ipynb\" target=\"_parent\"><img src=\"https://colab.research.google.com/assets/colab-badge.svg\" alt=\"Open In Colab\"/></a>"
      ]
    },
    {
      "cell_type": "markdown",
      "source": [
        "Given an array of integers arr, find the sum of min(b), where b ranges over every (contiguous) subarray of arr. Since the answer may be large, return the answer modulo $10^9+7$.\n",
        "\n",
        "\n",
        "```\n",
        "Example 1:\n",
        "\n",
        "Input: arr = [3,1,2,4]\n",
        "Output: 17\n",
        "Explanation:\n",
        "Subarrays are [3], [1], [2], [4], [3,1], [1,2], [2,4], [3,1,2], [1,2,4], [3,1,2,4].\n",
        "Minimums are 3, 1, 2, 4, 1, 1, 2, 1, 1, 1.\n",
        "Sum is 17.\n",
        "Example 2:\n",
        "\n",
        "Input: arr = [11,81,94,43,3]\n",
        "Output: 444\n",
        "```\n",
        "\n",
        "Constraints:\n",
        "\n",
        "$1 <= arr.length <= 3 * 10^4$\n",
        "\n",
        "$1 <= arr[i] <= 3 * 10^4$"
      ],
      "metadata": {
        "id": "gz-dVm-m4vYi"
      }
    },
    {
      "cell_type": "code",
      "execution_count": null,
      "metadata": {
        "id": "H2MiVukA4mO7"
      },
      "outputs": [],
      "source": [
        "def sumSubarrayMins(self, arr: List[int]) -> int:\n",
        "  return 0"
      ]
    },
    {
      "cell_type": "markdown",
      "source": [
        "The implementation leverages two main concepts: the \"Monotonic Stack\" pattern and the \"Prefix Sum\" pattern, to efficiently solve the problem without having to evaluate every subarray explicitly. Here's the walk-through of the implemented solution, step-by-step:\n",
        "\n",
        "В реализации используются две основные концепции: шаблон «Монотонный стек» и шаблон «Сумма префиксов», чтобы эффективно решить проблему без необходимости явно оценивать каждый подмассив. Вот пошаговое описание реализованного решения:\n",
        "\n",
        "Initialize two arrays, left and right, of the same length as arr to n, with -1 and n respectively. These arrays will hold for each element the index of the previous smaller element (left) and the next smaller or equal element (right).\n",
        "\n",
        "Инициализируйте два массива, левый и правый, той же длины, что и arr to n, с -1 и n соответственно. Эти массивы будут хранить для каждого элемента индекс предыдущего меньшего элемента (слева) и следующего меньшего или равного элемента (справа).\n",
        "\n",
        "Initialize a stack stk which we'll use to iterate over the array to find the left and right indices. The stack approach efficiently maintains a decreasing order of elements and their indices.\n",
        "\n",
        "Инициализируйте стек stk, который мы будем использовать для перебора массива в поисках левого и правого индексов. Подход стека эффективно поддерживает убывающий порядок элементов и их индексов.\n",
        "\n",
        "Iterate through the elements of arr from left to right. For each element, while the stack is not empty and the top element of the stack is greater than or equal to the current element, pop elements from the stack. This process is maintaining the stack in a strictly decreasing order.\n",
        "\n",
        "Перебирайте элементы arr слева направо. Для каждого элемента, пока стек не пуст и верхний элемент стека больше или равен текущему элементу, извлеките элементы из стека. Этот процесс поддерживает стек в строго убывающем порядке.\n",
        "\n",
        "After elements larger than the current one are popped off stk, if the stack is not empty, set left[i] to the index of the top element of stk, which is the closest previous element smaller than arr[i]. Then, push the current index i onto the stack.\n",
        "\n",
        "После извлечения элементов, превышающих текущий, из stk, если стек не пуст, установите left[i] в ​​индекс верхнего элемента stk, который является ближайшим предыдущим элементом, меньшим, чем arr[i]. Затем поместите текущий индекс i в стек.\n",
        "\n",
        "Clear the stack and then iterate through the elements of arr from right to left to similarly identify right[i] for each element. The process mirrors step 3 and 4, but in the reversed direction and with the condition that any equal value element could also terminate the loop, maintaining strict decreasing order up to equal values.\n",
        "\n",
        "Очистите стек, а затем переберите элементы arr справа налево, чтобы аналогичным образом определить right[i] для каждого элемента. Этот процесс повторяет шаги 3 и 4, но в обратном направлении и с условием, что любой элемент равного значения также может завершить цикл, сохраняя строгий порядок убывания до равных значений.\n",
        "\n",
        "Once both left and right arrays are filled with proper indices, calculate the sum. By iterating over all indices i, find the product of the count of subarrays where arr[i] is the minimum ((i - left[i]) * (right[i] - i)) and arr[i]. This represents the sum of arr[i] for all i in its valid subarrays.\n",
        "\n",
        "Как только левый и правый массивы заполнены правильными индексами, вычислите сумму. Перебирая все индексы i, найдите произведение количества подмассивов, где arr[i] — минимум ((i — left[i]) * (right[i] — i)) и arr[i]. Это представляет собой сумму arr[i] для всех i в его допустимых подмассивах.\n",
        "\n",
        "Sum these products for all i. As the final sum might be very large, each addition is taken modulo 10^9 + 7 to prevent integer overflow.\n",
        "\n",
        "Суммируйте эти произведения для всех i. Поскольку конечная сумма может быть очень большой, каждое сложение выполняется по модулю 10^9 + 7, чтобы предотвратить переполнение целого числа.\n",
        "\n",
        "By combining the Monotonic Stack to find bounds for each element and the Prefix Sum pattern to calculate each element's contribution to the total sum, the algorithm achieves an efficient solution that operates in O(n) time complexity, where n is the size of the input array arr.\n",
        "\n",
        "Объединив Monotonic Stack для поиска границ для каждого элемента и шаблон Prefix Sum для расчета вклада каждого элемента в общую сумму, алгоритм достигает эффективного решения, которое работает с временной сложностью O (n), где n — размер входных данных. массив обр.\n",
        "\n",
        "\n",
        "class Solution:\n",
        "    def sumSubarrayMins(self, arr: List[int]) -> int:\n",
        "        n = len(arr)\n",
        "        left = [-1] * n\n",
        "        right = [n] * n\n",
        "        stack = []\n",
        "\n",
        "        for i, value in enumerate(arr):\n",
        "            while stack and arr[stack[-1]] >= value:  \n",
        "                stack.pop()  \n",
        "            if stack:\n",
        "                left[i] = stack[-1]  \n",
        "            stack.append(i)\n",
        "\n",
        "        stack = []\n",
        "\n",
        "        \n",
        "        for i in range(n - 1, -1, -1):  \n",
        "            while stack and arr[stack[-1]] > arr[i]:\n",
        "                stack.pop()  \n",
        "            if stack:\n",
        "                right[i] = stack[-1]  \n",
        "            stack.append(i)\n",
        "\n",
        "        mod = 10**9 + 7\n",
        "\n",
        "        result = sum((i - left[i]) * (right[i] - i) * value for i, value in enumerate(arr)) % mod\n",
        "      \n",
        "        return result"
      ],
      "metadata": {
        "id": "3FDDs2GcAKce"
      }
    },
    {
      "cell_type": "code",
      "source": [],
      "metadata": {
        "id": "0G_a7v1GBIJ-"
      },
      "execution_count": null,
      "outputs": []
    }
  ]
}
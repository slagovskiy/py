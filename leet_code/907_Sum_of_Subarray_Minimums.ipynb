{
  "nbformat": 4,
  "nbformat_minor": 0,
  "metadata": {
    "colab": {
      "provenance": [],
      "authorship_tag": "ABX9TyOFM78KxQTaTuoMD6+1MhMg",
      "include_colab_link": true
    },
    "kernelspec": {
      "name": "python3",
      "display_name": "Python 3"
    },
    "language_info": {
      "name": "python"
    }
  },
  "cells": [
    {
      "cell_type": "markdown",
      "metadata": {
        "id": "view-in-github",
        "colab_type": "text"
      },
      "source": [
        "<a href=\"https://colab.research.google.com/github/slagovskiy/py/blob/main/leet_code/907_Sum_of_Subarray_Minimums.ipynb\" target=\"_parent\"><img src=\"https://colab.research.google.com/assets/colab-badge.svg\" alt=\"Open In Colab\"/></a>"
      ]
    },
    {
      "cell_type": "markdown",
      "source": [
        "Given an array of integers arr, find the sum of min(b), where b ranges over every (contiguous) subarray of arr. Since the answer may be large, return the answer modulo $10^9+7$.\n",
        "\n",
        "\n",
        "```\n",
        "Example 1:\n",
        "\n",
        "Input: arr = [3,1,2,4]\n",
        "Output: 17\n",
        "Explanation:\n",
        "Subarrays are [3], [1], [2], [4], [3,1], [1,2], [2,4], [3,1,2], [1,2,4], [3,1,2,4].\n",
        "Minimums are 3, 1, 2, 4, 1, 1, 2, 1, 1, 1.\n",
        "Sum is 17.\n",
        "Example 2:\n",
        "\n",
        "Input: arr = [11,81,94,43,3]\n",
        "Output: 444\n",
        "```\n",
        "\n",
        "Constraints:\n",
        "\n",
        "$1 <= arr.length <= 3 * 10^4$\n",
        "\n",
        "$1 <= arr[i] <= 3 * 10^4$"
      ],
      "metadata": {
        "id": "gz-dVm-m4vYi"
      }
    },
    {
      "cell_type": "code",
      "execution_count": null,
      "metadata": {
        "id": "H2MiVukA4mO7"
      },
      "outputs": [],
      "source": [
        "def sumSubarrayMins(self, arr: List[int]) -> int:\n",
        "  return 0"
      ]
    }
  ]
}